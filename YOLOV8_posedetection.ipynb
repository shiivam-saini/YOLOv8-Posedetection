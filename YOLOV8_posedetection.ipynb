{
  "nbformat": 4,
  "nbformat_minor": 0,
  "metadata": {
    "colab": {
      "provenance": [],
      "authorship_tag": "ABX9TyMiNfu4Mbj2lWmCFicJHW/p",
      "include_colab_link": true
    },
    "kernelspec": {
      "name": "python3",
      "display_name": "Python 3"
    },
    "language_info": {
      "name": "python"
    }
  },
  "cells": [
    {
      "cell_type": "markdown",
      "metadata": {
        "id": "view-in-github",
        "colab_type": "text"
      },
      "source": [
        "<a href=\"https://colab.research.google.com/github/shiivam-saini/YOLOv8-Posedetection/blob/main/YOLOV8_posedetection.ipynb\" target=\"_parent\"><img src=\"https://colab.research.google.com/assets/colab-badge.svg\" alt=\"Open In Colab\"/></a>"
      ]
    },
    {
      "cell_type": "code",
      "execution_count": null,
      "metadata": {
        "id": "-jgcNF_vJYOQ"
      },
      "outputs": [],
      "source": [
        "!pip install tensorflow==2.13.1\n",
        "!pip install ultralytics"
      ]
    },
    {
      "cell_type": "code",
      "source": [
        "from ultralytics import YOLO"
      ],
      "metadata": {
        "id": "bGjRvTpCK2Q_"
      },
      "execution_count": 2,
      "outputs": []
    },
    {
      "cell_type": "code",
      "source": [
        "model=YOLO('yolov8n.yaml')\n",
        "model=YOLO('yolov8n-pose.pt')\n",
        "model=YOLO('yolov8n-pose.yaml').load('yolov8n-pose.pt')"
      ],
      "metadata": {
        "id": "la1CBxZvLuBe"
      },
      "execution_count": null,
      "outputs": []
    },
    {
      "cell_type": "code",
      "source": [
        "#Train the model\n",
        "results=model.train(data='coco8-pose.yaml',epochs=100,imgsz=640)\n"
      ],
      "metadata": {
        "id": "SFEdLwrAMX3Z"
      },
      "execution_count": null,
      "outputs": []
    },
    {
      "cell_type": "code",
      "source": [
        "model=YOLO('yolov8n-pose.pt')"
      ],
      "metadata": {
        "id": "kNF7f8x7Poqt"
      },
      "execution_count": 6,
      "outputs": []
    },
    {
      "cell_type": "code",
      "source": [
        "model=YOLO('/content/runs/pose/train/weights/best.pt')"
      ],
      "metadata": {
        "id": "iyziIigGSYiv"
      },
      "execution_count": 7,
      "outputs": []
    },
    {
      "cell_type": "code",
      "source": [
        "metrics = model.val()\n",
        "metrics.box.map\n",
        "metrics.box.map50\n",
        "metrics.box.map75\n",
        "metrics.box.maps"
      ],
      "metadata": {
        "id": "mcOnJJFISetd"
      },
      "execution_count": null,
      "outputs": []
    },
    {
      "cell_type": "code",
      "source": [
        "model = YOLO('yolov8n-pose.pt')  # load an official model\n",
        "model = YOLO('/content/runs/pose/train/weights/best.pt')  # load a custom model\n",
        "results=model('/WhatsApp Video 2023-12-07 at 04.18.41_8a858003.mp4')\n",
        "\n",
        "model.predict('/WhatsApp Video 2023-12-07 at 04.18.41_8a858003.mp4',save=True,imgsz=320,conf=0.50)\n"
      ],
      "metadata": {
        "id": "ZHh7CBfJTjUT"
      },
      "execution_count": null,
      "outputs": []
    },
    {
      "cell_type": "code",
      "source": [
        "success = model.export(format='onnx')\n"
      ],
      "metadata": {
        "colab": {
          "base_uri": "https://localhost:8080/"
        },
        "id": "2xqXKbw3VoE1",
        "outputId": "9af31912-dcda-4c00-aad5-7e32ca096fb8"
      },
      "execution_count": 18,
      "outputs": [
        {
          "output_type": "stream",
          "name": "stdout",
          "text": [
            "Ultralytics YOLOv8.0.222 🚀 Python-3.10.12 torch-2.1.0+cu118 CPU (Intel Xeon 2.20GHz)\n",
            "\n",
            "\u001b[34m\u001b[1mPyTorch:\u001b[0m starting from '/content/runs/pose/train/weights/best.pt' with input shape (1, 3, 640, 640) BCHW and output shape(s) (1, 56, 8400) (6.5 MB)\n",
            "\n",
            "\u001b[34m\u001b[1mONNX:\u001b[0m starting export with onnx 1.15.0 opset 17...\n",
            "\u001b[34m\u001b[1mONNX:\u001b[0m export success ✅ 1.2s, saved as '/content/runs/pose/train/weights/best.onnx' (12.9 MB)\n",
            "\n",
            "Export complete (2.8s)\n",
            "Results saved to \u001b[1m/content/runs/pose/train/weights\u001b[0m\n",
            "Predict:         yolo predict task=pose model=/content/runs/pose/train/weights/best.onnx imgsz=640  \n",
            "Validate:        yolo val task=pose model=/content/runs/pose/train/weights/best.onnx imgsz=640 data=/usr/local/lib/python3.10/dist-packages/ultralytics/cfg/datasets/coco8-pose.yaml  \n",
            "Visualize:       https://netron.app\n"
          ]
        }
      ]
    },
    {
      "cell_type": "code",
      "source": [],
      "metadata": {
        "id": "DPM8JvNAX8Du"
      },
      "execution_count": null,
      "outputs": []
    }
  ]
}